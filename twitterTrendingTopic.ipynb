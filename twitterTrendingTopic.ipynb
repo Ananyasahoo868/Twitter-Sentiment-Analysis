{
 "cells": [
  {
   "cell_type": "code",
   "execution_count": 1,
   "metadata": {},
   "outputs": [],
   "source": [
    "import pandas as pd\n",
    "import requests\n",
    "from bs4 import BeautifulSoup \n",
    "import time\n",
    "import re\n",
    "import os\n",
    "from tqdm import tqdm\n",
    "import datetime as dt"
   ]
  },
  {
   "cell_type": "code",
   "execution_count": 2,
   "metadata": {},
   "outputs": [],
   "source": [
    "def webcapture(url):\n",
    "    headers = {\n",
    "   'User-Agent': 'Mozilla/5.0',\n",
    "   }\n",
    "    session = requests.Session() \n",
    "    data = session.get(url, headers=headers)\n",
    "    soup = BeautifulSoup(data.text, 'html.parser') \n",
    "    return soup "
   ]
  },
  {
   "cell_type": "code",
   "execution_count": 3,
   "metadata": {},
   "outputs": [],
   "source": [
    "sdate = dt.date(2020, 1, 20)   \n",
    "edate = dt.date(2020, 4, 11)   \n",
    "\n",
    "delta = edate - sdate   \n",
    "date_range = []\n",
    "for i in range(delta.days + 1):\n",
    "    day = sdate + dt.timedelta(days=i)\n",
    "    date_range.append(str(day))"
   ]
  },
  {
   "cell_type": "code",
   "execution_count": 5,
   "metadata": {},
   "outputs": [
    {
     "name": "stderr",
     "output_type": "stream",
     "text": [
      "83it [07:32,  4.04s/it]\n"
     ]
    }
   ],
   "source": [
    "url_base = 'https://trendogate.com/placebydate/2352824/'\n",
    "usa_trendings = pd.DataFrame()\n",
    "\n",
    "for idx,date in tqdm(enumerate(date_range)):\n",
    "    url = url_base+date\n",
    "    soup = webcapture(url)\n",
    "    trending_list = [li.get_text() for li in soup.find_all('li','list-group-item')]\n",
    "    trending = []\n",
    "    for trend in trending_list:\n",
    "        trending.append(trend+'='+date)\n",
    "    usa_trendings = pd.concat([usa_trendings,pd.DataFrame(trending)])\n",
    "    time.sleep(2)\n",
    "    \n",
    "usa_trendings[['trending','date']] = usa_trendings.iloc[:,0].str.split('=',1,expand=True).iloc[:,0:2]"
   ]
  },
  {
   "cell_type": "code",
   "execution_count": 6,
   "metadata": {},
   "outputs": [],
   "source": [
    "usa_trendings = usa_trendings.iloc[:,1:3]"
   ]
  },
  {
   "cell_type": "code",
   "execution_count": 8,
   "metadata": {},
   "outputs": [],
   "source": [
    "os.chdir(r'C:\\Users\\Ananya\\Documents\\twitterData\\covid19')\n",
    "usa_trendings.to_csv('usa_trending.csv',index=False)"
   ]
  },
  {
   "cell_type": "code",
   "execution_count": 9,
   "metadata": {},
   "outputs": [],
   "source": [
    "url = 'https://trendogate.com/placebydate/2352824/2020-04-05'"
   ]
  },
  {
   "cell_type": "code",
   "execution_count": 10,
   "metadata": {},
   "outputs": [],
   "source": [
    "soup = webcapture(url)"
   ]
  },
  {
   "cell_type": "code",
   "execution_count": 11,
   "metadata": {},
   "outputs": [],
   "source": [
    "woeid = [option.get('value') for option in soup.find_all('option')]\n",
    "location = [option.get_text() for option in soup.find_all('option')]"
   ]
  },
  {
   "cell_type": "code",
   "execution_count": 12,
   "metadata": {},
   "outputs": [],
   "source": [
    "usa_id = [re.findall(r'United States',str(loc)) for loc in location]\n",
    "usa_idx = []\n",
    "for idx,value in enumerate(usa_id):\n",
    "    if value != []:\n",
    "        usa_idx.append(idx)\n",
    "    else:\n",
    "        continue"
   ]
  },
  {
   "cell_type": "code",
   "execution_count": 13,
   "metadata": {},
   "outputs": [],
   "source": [
    "usa_woeid = []\n",
    "usa_location = []\n",
    "for idx in usa_idx:\n",
    "    usa_woeid.append(woeid[idx])\n",
    "    usa_location.append(location[idx])"
   ]
  },
  {
   "cell_type": "code",
   "execution_count": 14,
   "metadata": {},
   "outputs": [],
   "source": [
    "usa_df = pd.DataFrame(list(zip(usa_woeid,usa_location)),columns=['woeid','location'])\n",
    "os.chdir(r'C:\\Users\\Ananya\\Documents\\twitterData\\covid19')\n",
    "usa_df.to_csv('usa_woeid_list.csv',index=False)"
   ]
  },
  {
   "cell_type": "code",
   "execution_count": null,
   "metadata": {},
   "outputs": [],
   "source": []
  }
 ],
 "metadata": {
  "kernelspec": {
   "display_name": "Python 3",
   "language": "python",
   "name": "python3"
  },
  "language_info": {
   "codemirror_mode": {
    "name": "ipython",
    "version": 3
   },
   "file_extension": ".py",
   "mimetype": "text/x-python",
   "name": "python",
   "nbconvert_exporter": "python",
   "pygments_lexer": "ipython3",
   "version": "3.7.0"
  }
 },
 "nbformat": 4,
 "nbformat_minor": 2
}
